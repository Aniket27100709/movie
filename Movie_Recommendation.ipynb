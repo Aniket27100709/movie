{
  "nbformat": 4,
  "nbformat_minor": 0,
  "metadata": {
    "colab": {
      "name": "Movie Recommendation.ipynb",
      "provenance": []
    },
    "kernelspec": {
      "name": "python3",
      "display_name": "Python 3"
    },
    "language_info": {
      "name": "python"
    }
  },
  "cells": [
    {
      "cell_type": "code",
      "metadata": {
        "id": "OSBmkob_xmje"
      },
      "source": [
        "import pandas as pd\n",
        "import numpy as np"
      ],
      "execution_count": 1,
      "outputs": []
    },
    {
      "cell_type": "code",
      "metadata": {
        "id": "INhhdVYOx_Lr",
        "colab": {
          "base_uri": "https://localhost:8080/"
        },
        "outputId": "ba5f2d3e-577e-4529-aa52-1922b56fa0af"
      },
      "source": [
        "data=pd.read_csv('movies.csv')\n",
        "data2=pd.read_csv('credit.csv',engine='python', encoding='utf-8', error_bad_lines=False)"
      ],
      "execution_count": 2,
      "outputs": [
        {
          "output_type": "stream",
          "name": "stderr",
          "text": [
            "Skipping line 520: unexpected end of data\n"
          ]
        }
      ]
    },
    {
      "cell_type": "code",
      "metadata": {
        "colab": {
          "base_uri": "https://localhost:8080/",
          "height": 184
        },
        "id": "menBTNrS348J",
        "outputId": "d04c8474-a8cb-4dee-e947-9217962fee6e"
      },
      "source": [
        "data.head(1)"
      ],
      "execution_count": 3,
      "outputs": [
        {
          "output_type": "execute_result",
          "data": {
            "text/html": [
              "<div>\n",
              "<style scoped>\n",
              "    .dataframe tbody tr th:only-of-type {\n",
              "        vertical-align: middle;\n",
              "    }\n",
              "\n",
              "    .dataframe tbody tr th {\n",
              "        vertical-align: top;\n",
              "    }\n",
              "\n",
              "    .dataframe thead th {\n",
              "        text-align: right;\n",
              "    }\n",
              "</style>\n",
              "<table border=\"1\" class=\"dataframe\">\n",
              "  <thead>\n",
              "    <tr style=\"text-align: right;\">\n",
              "      <th></th>\n",
              "      <th>budget</th>\n",
              "      <th>genres</th>\n",
              "      <th>homepage</th>\n",
              "      <th>id</th>\n",
              "      <th>keywords</th>\n",
              "      <th>original_language</th>\n",
              "      <th>original_title</th>\n",
              "      <th>overview</th>\n",
              "      <th>popularity</th>\n",
              "      <th>production_companies</th>\n",
              "      <th>production_countries</th>\n",
              "      <th>release_date</th>\n",
              "      <th>revenue</th>\n",
              "      <th>runtime</th>\n",
              "      <th>spoken_languages</th>\n",
              "      <th>status</th>\n",
              "      <th>tagline</th>\n",
              "      <th>title</th>\n",
              "      <th>vote_average</th>\n",
              "      <th>vote_count</th>\n",
              "    </tr>\n",
              "  </thead>\n",
              "  <tbody>\n",
              "    <tr>\n",
              "      <th>0</th>\n",
              "      <td>237000000</td>\n",
              "      <td>[{\"id\": 28, \"name\": \"Action\"}, {\"id\": 12, \"nam...</td>\n",
              "      <td>http://www.avatarmovie.com/</td>\n",
              "      <td>19995</td>\n",
              "      <td>[{\"id\": 1463, \"name\": \"culture clash\"}, {\"id\":...</td>\n",
              "      <td>en</td>\n",
              "      <td>Avatar</td>\n",
              "      <td>In the 22nd century, a paraplegic Marine is di...</td>\n",
              "      <td>150.437577</td>\n",
              "      <td>[{\"name\": \"Ingenious Film Partners\", \"id\": 289...</td>\n",
              "      <td>[{\"iso_3166_1\": \"US\", \"name\": \"United States o...</td>\n",
              "      <td>2009-12-10</td>\n",
              "      <td>2787965087</td>\n",
              "      <td>162.0</td>\n",
              "      <td>[{\"iso_639_1\": \"en\", \"name\": \"English\"}, {\"iso...</td>\n",
              "      <td>Released</td>\n",
              "      <td>Enter the World of Pandora.</td>\n",
              "      <td>Avatar</td>\n",
              "      <td>7.2</td>\n",
              "      <td>11800</td>\n",
              "    </tr>\n",
              "  </tbody>\n",
              "</table>\n",
              "</div>"
            ],
            "text/plain": [
              "      budget  ... vote_count\n",
              "0  237000000  ...      11800\n",
              "\n",
              "[1 rows x 20 columns]"
            ]
          },
          "metadata": {},
          "execution_count": 3
        }
      ]
    },
    {
      "cell_type": "code",
      "metadata": {
        "colab": {
          "base_uri": "https://localhost:8080/",
          "height": 203
        },
        "id": "kC5CCdhW5bkI",
        "outputId": "232d8b99-ec14-4d2d-81d2-3b2ef24f068c"
      },
      "source": [
        "data2.head()"
      ],
      "execution_count": 4,
      "outputs": [
        {
          "output_type": "execute_result",
          "data": {
            "text/html": [
              "<div>\n",
              "<style scoped>\n",
              "    .dataframe tbody tr th:only-of-type {\n",
              "        vertical-align: middle;\n",
              "    }\n",
              "\n",
              "    .dataframe tbody tr th {\n",
              "        vertical-align: top;\n",
              "    }\n",
              "\n",
              "    .dataframe thead th {\n",
              "        text-align: right;\n",
              "    }\n",
              "</style>\n",
              "<table border=\"1\" class=\"dataframe\">\n",
              "  <thead>\n",
              "    <tr style=\"text-align: right;\">\n",
              "      <th></th>\n",
              "      <th>movie_id</th>\n",
              "      <th>title</th>\n",
              "      <th>cast</th>\n",
              "      <th>crew</th>\n",
              "    </tr>\n",
              "  </thead>\n",
              "  <tbody>\n",
              "    <tr>\n",
              "      <th>0</th>\n",
              "      <td>19995</td>\n",
              "      <td>Avatar</td>\n",
              "      <td>[{\"cast_id\": 242, \"character\": \"Jake Sully\", \"...</td>\n",
              "      <td>[{\"credit_id\": \"52fe48009251416c750aca23\", \"de...</td>\n",
              "    </tr>\n",
              "    <tr>\n",
              "      <th>1</th>\n",
              "      <td>285</td>\n",
              "      <td>Pirates of the Caribbean: At World's End</td>\n",
              "      <td>[{\"cast_id\": 4, \"character\": \"Captain Jack Spa...</td>\n",
              "      <td>[{\"credit_id\": \"52fe4232c3a36847f800b579\", \"de...</td>\n",
              "    </tr>\n",
              "    <tr>\n",
              "      <th>2</th>\n",
              "      <td>206647</td>\n",
              "      <td>Spectre</td>\n",
              "      <td>[{\"cast_id\": 1, \"character\": \"James Bond\", \"cr...</td>\n",
              "      <td>[{\"credit_id\": \"54805967c3a36829b5002c41\", \"de...</td>\n",
              "    </tr>\n",
              "    <tr>\n",
              "      <th>3</th>\n",
              "      <td>49026</td>\n",
              "      <td>The Dark Knight Rises</td>\n",
              "      <td>[{\"cast_id\": 2, \"character\": \"Bruce Wayne / Ba...</td>\n",
              "      <td>[{\"credit_id\": \"52fe4781c3a36847f81398c3\", \"de...</td>\n",
              "    </tr>\n",
              "    <tr>\n",
              "      <th>4</th>\n",
              "      <td>49529</td>\n",
              "      <td>John Carter</td>\n",
              "      <td>[{\"cast_id\": 5, \"character\": \"John Carter\", \"c...</td>\n",
              "      <td>[{\"credit_id\": \"52fe479ac3a36847f813eaa3\", \"de...</td>\n",
              "    </tr>\n",
              "  </tbody>\n",
              "</table>\n",
              "</div>"
            ],
            "text/plain": [
              "   movie_id  ...                                               crew\n",
              "0     19995  ...  [{\"credit_id\": \"52fe48009251416c750aca23\", \"de...\n",
              "1       285  ...  [{\"credit_id\": \"52fe4232c3a36847f800b579\", \"de...\n",
              "2    206647  ...  [{\"credit_id\": \"54805967c3a36829b5002c41\", \"de...\n",
              "3     49026  ...  [{\"credit_id\": \"52fe4781c3a36847f81398c3\", \"de...\n",
              "4     49529  ...  [{\"credit_id\": \"52fe479ac3a36847f813eaa3\", \"de...\n",
              "\n",
              "[5 rows x 4 columns]"
            ]
          },
          "metadata": {},
          "execution_count": 4
        }
      ]
    },
    {
      "cell_type": "code",
      "metadata": {
        "id": "1BQqrJob5iok"
      },
      "source": [
        "movies=data.merge(data2,on=\"title\")"
      ],
      "execution_count": 5,
      "outputs": []
    },
    {
      "cell_type": "code",
      "metadata": {
        "colab": {
          "base_uri": "https://localhost:8080/"
        },
        "id": "vOsXcWX283-7",
        "outputId": "276fbfc5-a15a-476a-986a-1b476893a75d"
      },
      "source": [
        "movies.shape"
      ],
      "execution_count": 60,
      "outputs": [
        {
          "output_type": "execute_result",
          "data": {
            "text/plain": [
              "(518, 8)"
            ]
          },
          "metadata": {},
          "execution_count": 60
        }
      ]
    },
    {
      "cell_type": "code",
      "metadata": {
        "id": "dVFtgGLr9Raq"
      },
      "source": [
        "movies = movies[['movie_id','title','overview','genres','keywords','cast','crew']]"
      ],
      "execution_count": 7,
      "outputs": []
    },
    {
      "cell_type": "code",
      "metadata": {
        "colab": {
          "base_uri": "https://localhost:8080/"
        },
        "id": "aUVc_jK__yBY",
        "outputId": "accf60fb-f7b5-4529-c15b-3542eb2dfc88"
      },
      "source": [
        "movies.isnull().sum()"
      ],
      "execution_count": 8,
      "outputs": [
        {
          "output_type": "execute_result",
          "data": {
            "text/plain": [
              "movie_id    0\n",
              "title       0\n",
              "overview    0\n",
              "genres      0\n",
              "keywords    0\n",
              "cast        0\n",
              "crew        0\n",
              "dtype: int64"
            ]
          },
          "metadata": {},
          "execution_count": 8
        }
      ]
    },
    {
      "cell_type": "code",
      "metadata": {
        "colab": {
          "base_uri": "https://localhost:8080/"
        },
        "id": "r2Ke_rLTAu3D",
        "outputId": "ca64801b-8347-46ec-c789-d3439226ddf2"
      },
      "source": [
        "movies.duplicated().sum()"
      ],
      "execution_count": 9,
      "outputs": [
        {
          "output_type": "execute_result",
          "data": {
            "text/plain": [
              "0"
            ]
          },
          "metadata": {},
          "execution_count": 9
        }
      ]
    },
    {
      "cell_type": "code",
      "metadata": {
        "colab": {
          "base_uri": "https://localhost:8080/",
          "height": 35
        },
        "id": "Kl9qVYzfBApc",
        "outputId": "5bea701e-87b1-4663-9416-dab9d05e90a9"
      },
      "source": [
        "movies.iloc[0].genres"
      ],
      "execution_count": 10,
      "outputs": [
        {
          "output_type": "execute_result",
          "data": {
            "application/vnd.google.colaboratory.intrinsic+json": {
              "type": "string"
            },
            "text/plain": [
              "'[{\"id\": 28, \"name\": \"Action\"}, {\"id\": 12, \"name\": \"Adventure\"}, {\"id\": 14, \"name\": \"Fantasy\"}, {\"id\": 878, \"name\": \"Science Fiction\"}]'"
            ]
          },
          "metadata": {},
          "execution_count": 10
        }
      ]
    },
    {
      "cell_type": "code",
      "metadata": {
        "id": "yHuMcYInOoBq"
      },
      "source": [
        "import ast"
      ],
      "execution_count": 11,
      "outputs": []
    },
    {
      "cell_type": "code",
      "metadata": {
        "id": "ySw6yOgFBZj7"
      },
      "source": [
        "def convert(text):\n",
        "    L = []\n",
        "    for i in ast.literal_eval(text):\n",
        "        L.append(i['name']) \n",
        "    return L "
      ],
      "execution_count": 12,
      "outputs": []
    },
    {
      "cell_type": "code",
      "metadata": {
        "colab": {
          "base_uri": "https://localhost:8080/",
          "height": 371
        },
        "id": "e0K-SQi_Oi9f",
        "outputId": "7574de35-bc7a-4999-d714-426ad74990c4"
      },
      "source": [
        "movies['genres'] = movies['genres'].apply(convert)\n",
        "movies.head()"
      ],
      "execution_count": 13,
      "outputs": [
        {
          "output_type": "execute_result",
          "data": {
            "text/html": [
              "<div>\n",
              "<style scoped>\n",
              "    .dataframe tbody tr th:only-of-type {\n",
              "        vertical-align: middle;\n",
              "    }\n",
              "\n",
              "    .dataframe tbody tr th {\n",
              "        vertical-align: top;\n",
              "    }\n",
              "\n",
              "    .dataframe thead th {\n",
              "        text-align: right;\n",
              "    }\n",
              "</style>\n",
              "<table border=\"1\" class=\"dataframe\">\n",
              "  <thead>\n",
              "    <tr style=\"text-align: right;\">\n",
              "      <th></th>\n",
              "      <th>movie_id</th>\n",
              "      <th>title</th>\n",
              "      <th>overview</th>\n",
              "      <th>genres</th>\n",
              "      <th>keywords</th>\n",
              "      <th>cast</th>\n",
              "      <th>crew</th>\n",
              "    </tr>\n",
              "  </thead>\n",
              "  <tbody>\n",
              "    <tr>\n",
              "      <th>0</th>\n",
              "      <td>19995</td>\n",
              "      <td>Avatar</td>\n",
              "      <td>In the 22nd century, a paraplegic Marine is di...</td>\n",
              "      <td>[Action, Adventure, Fantasy, Science Fiction]</td>\n",
              "      <td>[{\"id\": 1463, \"name\": \"culture clash\"}, {\"id\":...</td>\n",
              "      <td>[{\"cast_id\": 242, \"character\": \"Jake Sully\", \"...</td>\n",
              "      <td>[{\"credit_id\": \"52fe48009251416c750aca23\", \"de...</td>\n",
              "    </tr>\n",
              "    <tr>\n",
              "      <th>1</th>\n",
              "      <td>285</td>\n",
              "      <td>Pirates of the Caribbean: At World's End</td>\n",
              "      <td>Captain Barbossa, long believed to be dead, ha...</td>\n",
              "      <td>[Adventure, Fantasy, Action]</td>\n",
              "      <td>[{\"id\": 270, \"name\": \"ocean\"}, {\"id\": 726, \"na...</td>\n",
              "      <td>[{\"cast_id\": 4, \"character\": \"Captain Jack Spa...</td>\n",
              "      <td>[{\"credit_id\": \"52fe4232c3a36847f800b579\", \"de...</td>\n",
              "    </tr>\n",
              "    <tr>\n",
              "      <th>2</th>\n",
              "      <td>206647</td>\n",
              "      <td>Spectre</td>\n",
              "      <td>A cryptic message from Bond’s past sends him o...</td>\n",
              "      <td>[Action, Adventure, Crime]</td>\n",
              "      <td>[{\"id\": 470, \"name\": \"spy\"}, {\"id\": 818, \"name...</td>\n",
              "      <td>[{\"cast_id\": 1, \"character\": \"James Bond\", \"cr...</td>\n",
              "      <td>[{\"credit_id\": \"54805967c3a36829b5002c41\", \"de...</td>\n",
              "    </tr>\n",
              "    <tr>\n",
              "      <th>3</th>\n",
              "      <td>49026</td>\n",
              "      <td>The Dark Knight Rises</td>\n",
              "      <td>Following the death of District Attorney Harve...</td>\n",
              "      <td>[Action, Crime, Drama, Thriller]</td>\n",
              "      <td>[{\"id\": 849, \"name\": \"dc comics\"}, {\"id\": 853,...</td>\n",
              "      <td>[{\"cast_id\": 2, \"character\": \"Bruce Wayne / Ba...</td>\n",
              "      <td>[{\"credit_id\": \"52fe4781c3a36847f81398c3\", \"de...</td>\n",
              "    </tr>\n",
              "    <tr>\n",
              "      <th>4</th>\n",
              "      <td>49529</td>\n",
              "      <td>John Carter</td>\n",
              "      <td>John Carter is a war-weary, former military ca...</td>\n",
              "      <td>[Action, Adventure, Science Fiction]</td>\n",
              "      <td>[{\"id\": 818, \"name\": \"based on novel\"}, {\"id\":...</td>\n",
              "      <td>[{\"cast_id\": 5, \"character\": \"John Carter\", \"c...</td>\n",
              "      <td>[{\"credit_id\": \"52fe479ac3a36847f813eaa3\", \"de...</td>\n",
              "    </tr>\n",
              "  </tbody>\n",
              "</table>\n",
              "</div>"
            ],
            "text/plain": [
              "   movie_id  ...                                               crew\n",
              "0     19995  ...  [{\"credit_id\": \"52fe48009251416c750aca23\", \"de...\n",
              "1       285  ...  [{\"credit_id\": \"52fe4232c3a36847f800b579\", \"de...\n",
              "2    206647  ...  [{\"credit_id\": \"54805967c3a36829b5002c41\", \"de...\n",
              "3     49026  ...  [{\"credit_id\": \"52fe4781c3a36847f81398c3\", \"de...\n",
              "4     49529  ...  [{\"credit_id\": \"52fe479ac3a36847f813eaa3\", \"de...\n",
              "\n",
              "[5 rows x 7 columns]"
            ]
          },
          "metadata": {},
          "execution_count": 13
        }
      ]
    },
    {
      "cell_type": "code",
      "metadata": {
        "colab": {
          "base_uri": "https://localhost:8080/",
          "height": 371
        },
        "id": "ddOJFlNEOjv8",
        "outputId": "ae507398-c7a6-4e52-fe2d-1e59a324282d"
      },
      "source": [
        "movies['keywords'] = movies['keywords'].apply(convert)\n",
        "movies.head()"
      ],
      "execution_count": 14,
      "outputs": [
        {
          "output_type": "execute_result",
          "data": {
            "text/html": [
              "<div>\n",
              "<style scoped>\n",
              "    .dataframe tbody tr th:only-of-type {\n",
              "        vertical-align: middle;\n",
              "    }\n",
              "\n",
              "    .dataframe tbody tr th {\n",
              "        vertical-align: top;\n",
              "    }\n",
              "\n",
              "    .dataframe thead th {\n",
              "        text-align: right;\n",
              "    }\n",
              "</style>\n",
              "<table border=\"1\" class=\"dataframe\">\n",
              "  <thead>\n",
              "    <tr style=\"text-align: right;\">\n",
              "      <th></th>\n",
              "      <th>movie_id</th>\n",
              "      <th>title</th>\n",
              "      <th>overview</th>\n",
              "      <th>genres</th>\n",
              "      <th>keywords</th>\n",
              "      <th>cast</th>\n",
              "      <th>crew</th>\n",
              "    </tr>\n",
              "  </thead>\n",
              "  <tbody>\n",
              "    <tr>\n",
              "      <th>0</th>\n",
              "      <td>19995</td>\n",
              "      <td>Avatar</td>\n",
              "      <td>In the 22nd century, a paraplegic Marine is di...</td>\n",
              "      <td>[Action, Adventure, Fantasy, Science Fiction]</td>\n",
              "      <td>[culture clash, future, space war, space colon...</td>\n",
              "      <td>[{\"cast_id\": 242, \"character\": \"Jake Sully\", \"...</td>\n",
              "      <td>[{\"credit_id\": \"52fe48009251416c750aca23\", \"de...</td>\n",
              "    </tr>\n",
              "    <tr>\n",
              "      <th>1</th>\n",
              "      <td>285</td>\n",
              "      <td>Pirates of the Caribbean: At World's End</td>\n",
              "      <td>Captain Barbossa, long believed to be dead, ha...</td>\n",
              "      <td>[Adventure, Fantasy, Action]</td>\n",
              "      <td>[ocean, drug abuse, exotic island, east india ...</td>\n",
              "      <td>[{\"cast_id\": 4, \"character\": \"Captain Jack Spa...</td>\n",
              "      <td>[{\"credit_id\": \"52fe4232c3a36847f800b579\", \"de...</td>\n",
              "    </tr>\n",
              "    <tr>\n",
              "      <th>2</th>\n",
              "      <td>206647</td>\n",
              "      <td>Spectre</td>\n",
              "      <td>A cryptic message from Bond’s past sends him o...</td>\n",
              "      <td>[Action, Adventure, Crime]</td>\n",
              "      <td>[spy, based on novel, secret agent, sequel, mi...</td>\n",
              "      <td>[{\"cast_id\": 1, \"character\": \"James Bond\", \"cr...</td>\n",
              "      <td>[{\"credit_id\": \"54805967c3a36829b5002c41\", \"de...</td>\n",
              "    </tr>\n",
              "    <tr>\n",
              "      <th>3</th>\n",
              "      <td>49026</td>\n",
              "      <td>The Dark Knight Rises</td>\n",
              "      <td>Following the death of District Attorney Harve...</td>\n",
              "      <td>[Action, Crime, Drama, Thriller]</td>\n",
              "      <td>[dc comics, crime fighter, terrorist, secret i...</td>\n",
              "      <td>[{\"cast_id\": 2, \"character\": \"Bruce Wayne / Ba...</td>\n",
              "      <td>[{\"credit_id\": \"52fe4781c3a36847f81398c3\", \"de...</td>\n",
              "    </tr>\n",
              "    <tr>\n",
              "      <th>4</th>\n",
              "      <td>49529</td>\n",
              "      <td>John Carter</td>\n",
              "      <td>John Carter is a war-weary, former military ca...</td>\n",
              "      <td>[Action, Adventure, Science Fiction]</td>\n",
              "      <td>[based on novel, mars, medallion, space travel...</td>\n",
              "      <td>[{\"cast_id\": 5, \"character\": \"John Carter\", \"c...</td>\n",
              "      <td>[{\"credit_id\": \"52fe479ac3a36847f813eaa3\", \"de...</td>\n",
              "    </tr>\n",
              "  </tbody>\n",
              "</table>\n",
              "</div>"
            ],
            "text/plain": [
              "   movie_id  ...                                               crew\n",
              "0     19995  ...  [{\"credit_id\": \"52fe48009251416c750aca23\", \"de...\n",
              "1       285  ...  [{\"credit_id\": \"52fe4232c3a36847f800b579\", \"de...\n",
              "2    206647  ...  [{\"credit_id\": \"54805967c3a36829b5002c41\", \"de...\n",
              "3     49026  ...  [{\"credit_id\": \"52fe4781c3a36847f81398c3\", \"de...\n",
              "4     49529  ...  [{\"credit_id\": \"52fe479ac3a36847f813eaa3\", \"de...\n",
              "\n",
              "[5 rows x 7 columns]"
            ]
          },
          "metadata": {},
          "execution_count": 14
        }
      ]
    },
    {
      "cell_type": "code",
      "metadata": {
        "id": "MyXjqyWIOviv"
      },
      "source": [
        "def counter2(obj):\n",
        "  count=0\n",
        "  l=[]\n",
        "  for i in ast.literal_eval(obj):\n",
        "    if count<3:\n",
        "      l.append(i[\"name\"])\n",
        "    count+=1\n",
        "  return l"
      ],
      "execution_count": 15,
      "outputs": []
    },
    {
      "cell_type": "code",
      "metadata": {
        "id": "AnO-zwJeQBYI"
      },
      "source": [
        "movies['cast']=movies['cast'].apply(counter2)"
      ],
      "execution_count": 16,
      "outputs": []
    },
    {
      "cell_type": "code",
      "metadata": {
        "colab": {
          "base_uri": "https://localhost:8080/",
          "height": 371
        },
        "id": "c2NWtmJlQLJ9",
        "outputId": "09ec44fa-a1b1-47ff-d919-c9bda3f16648"
      },
      "source": [
        "movies.head()"
      ],
      "execution_count": 17,
      "outputs": [
        {
          "output_type": "execute_result",
          "data": {
            "text/html": [
              "<div>\n",
              "<style scoped>\n",
              "    .dataframe tbody tr th:only-of-type {\n",
              "        vertical-align: middle;\n",
              "    }\n",
              "\n",
              "    .dataframe tbody tr th {\n",
              "        vertical-align: top;\n",
              "    }\n",
              "\n",
              "    .dataframe thead th {\n",
              "        text-align: right;\n",
              "    }\n",
              "</style>\n",
              "<table border=\"1\" class=\"dataframe\">\n",
              "  <thead>\n",
              "    <tr style=\"text-align: right;\">\n",
              "      <th></th>\n",
              "      <th>movie_id</th>\n",
              "      <th>title</th>\n",
              "      <th>overview</th>\n",
              "      <th>genres</th>\n",
              "      <th>keywords</th>\n",
              "      <th>cast</th>\n",
              "      <th>crew</th>\n",
              "    </tr>\n",
              "  </thead>\n",
              "  <tbody>\n",
              "    <tr>\n",
              "      <th>0</th>\n",
              "      <td>19995</td>\n",
              "      <td>Avatar</td>\n",
              "      <td>In the 22nd century, a paraplegic Marine is di...</td>\n",
              "      <td>[Action, Adventure, Fantasy, Science Fiction]</td>\n",
              "      <td>[culture clash, future, space war, space colon...</td>\n",
              "      <td>[Sam Worthington, Zoe Saldana, Sigourney Weaver]</td>\n",
              "      <td>[{\"credit_id\": \"52fe48009251416c750aca23\", \"de...</td>\n",
              "    </tr>\n",
              "    <tr>\n",
              "      <th>1</th>\n",
              "      <td>285</td>\n",
              "      <td>Pirates of the Caribbean: At World's End</td>\n",
              "      <td>Captain Barbossa, long believed to be dead, ha...</td>\n",
              "      <td>[Adventure, Fantasy, Action]</td>\n",
              "      <td>[ocean, drug abuse, exotic island, east india ...</td>\n",
              "      <td>[Johnny Depp, Orlando Bloom, Keira Knightley]</td>\n",
              "      <td>[{\"credit_id\": \"52fe4232c3a36847f800b579\", \"de...</td>\n",
              "    </tr>\n",
              "    <tr>\n",
              "      <th>2</th>\n",
              "      <td>206647</td>\n",
              "      <td>Spectre</td>\n",
              "      <td>A cryptic message from Bond’s past sends him o...</td>\n",
              "      <td>[Action, Adventure, Crime]</td>\n",
              "      <td>[spy, based on novel, secret agent, sequel, mi...</td>\n",
              "      <td>[Daniel Craig, Christoph Waltz, Léa Seydoux]</td>\n",
              "      <td>[{\"credit_id\": \"54805967c3a36829b5002c41\", \"de...</td>\n",
              "    </tr>\n",
              "    <tr>\n",
              "      <th>3</th>\n",
              "      <td>49026</td>\n",
              "      <td>The Dark Knight Rises</td>\n",
              "      <td>Following the death of District Attorney Harve...</td>\n",
              "      <td>[Action, Crime, Drama, Thriller]</td>\n",
              "      <td>[dc comics, crime fighter, terrorist, secret i...</td>\n",
              "      <td>[Christian Bale, Michael Caine, Gary Oldman]</td>\n",
              "      <td>[{\"credit_id\": \"52fe4781c3a36847f81398c3\", \"de...</td>\n",
              "    </tr>\n",
              "    <tr>\n",
              "      <th>4</th>\n",
              "      <td>49529</td>\n",
              "      <td>John Carter</td>\n",
              "      <td>John Carter is a war-weary, former military ca...</td>\n",
              "      <td>[Action, Adventure, Science Fiction]</td>\n",
              "      <td>[based on novel, mars, medallion, space travel...</td>\n",
              "      <td>[Taylor Kitsch, Lynn Collins, Samantha Morton]</td>\n",
              "      <td>[{\"credit_id\": \"52fe479ac3a36847f813eaa3\", \"de...</td>\n",
              "    </tr>\n",
              "  </tbody>\n",
              "</table>\n",
              "</div>"
            ],
            "text/plain": [
              "   movie_id  ...                                               crew\n",
              "0     19995  ...  [{\"credit_id\": \"52fe48009251416c750aca23\", \"de...\n",
              "1       285  ...  [{\"credit_id\": \"52fe4232c3a36847f800b579\", \"de...\n",
              "2    206647  ...  [{\"credit_id\": \"54805967c3a36829b5002c41\", \"de...\n",
              "3     49026  ...  [{\"credit_id\": \"52fe4781c3a36847f81398c3\", \"de...\n",
              "4     49529  ...  [{\"credit_id\": \"52fe479ac3a36847f813eaa3\", \"de...\n",
              "\n",
              "[5 rows x 7 columns]"
            ]
          },
          "metadata": {},
          "execution_count": 17
        }
      ]
    },
    {
      "cell_type": "code",
      "metadata": {
        "id": "WHxaER5LQNol"
      },
      "source": [
        "def fetch_crew(obj):\n",
        "  l=[]\n",
        "  for i in ast.literal_eval(obj):\n",
        "    if i['job']=='Director':\n",
        "      l.append(i['name'])\n",
        "  return l"
      ],
      "execution_count": 18,
      "outputs": []
    },
    {
      "cell_type": "code",
      "metadata": {
        "id": "agc9CyUVRXUP"
      },
      "source": [
        "movies['crew']=movies['crew'].apply(fetch_crew)"
      ],
      "execution_count": 19,
      "outputs": []
    },
    {
      "cell_type": "code",
      "metadata": {
        "colab": {
          "base_uri": "https://localhost:8080/"
        },
        "id": "1ynVOJ44RjJq",
        "outputId": "5a41c42b-2880-454f-f36b-48371559c9ac"
      },
      "source": [
        "movies.shape"
      ],
      "execution_count": 59,
      "outputs": [
        {
          "output_type": "execute_result",
          "data": {
            "text/plain": [
              "(518, 8)"
            ]
          },
          "metadata": {},
          "execution_count": 59
        }
      ]
    },
    {
      "cell_type": "code",
      "metadata": {
        "id": "MTp0Y0-yRlrg"
      },
      "source": [
        "movies['overview']=movies['overview'].apply(lambda x:x.split())"
      ],
      "execution_count": 21,
      "outputs": []
    },
    {
      "cell_type": "code",
      "metadata": {
        "colab": {
          "base_uri": "https://localhost:8080/",
          "height": 304
        },
        "id": "DdDIrzxZSAJ_",
        "outputId": "51129c5e-bce3-4278-db60-e1342dc7fabb"
      },
      "source": [
        "movies.head()"
      ],
      "execution_count": 22,
      "outputs": [
        {
          "output_type": "execute_result",
          "data": {
            "text/html": [
              "<div>\n",
              "<style scoped>\n",
              "    .dataframe tbody tr th:only-of-type {\n",
              "        vertical-align: middle;\n",
              "    }\n",
              "\n",
              "    .dataframe tbody tr th {\n",
              "        vertical-align: top;\n",
              "    }\n",
              "\n",
              "    .dataframe thead th {\n",
              "        text-align: right;\n",
              "    }\n",
              "</style>\n",
              "<table border=\"1\" class=\"dataframe\">\n",
              "  <thead>\n",
              "    <tr style=\"text-align: right;\">\n",
              "      <th></th>\n",
              "      <th>movie_id</th>\n",
              "      <th>title</th>\n",
              "      <th>overview</th>\n",
              "      <th>genres</th>\n",
              "      <th>keywords</th>\n",
              "      <th>cast</th>\n",
              "      <th>crew</th>\n",
              "    </tr>\n",
              "  </thead>\n",
              "  <tbody>\n",
              "    <tr>\n",
              "      <th>0</th>\n",
              "      <td>19995</td>\n",
              "      <td>Avatar</td>\n",
              "      <td>[In, the, 22nd, century,, a, paraplegic, Marin...</td>\n",
              "      <td>[Action, Adventure, Fantasy, Science Fiction]</td>\n",
              "      <td>[culture clash, future, space war, space colon...</td>\n",
              "      <td>[Sam Worthington, Zoe Saldana, Sigourney Weaver]</td>\n",
              "      <td>[James Cameron]</td>\n",
              "    </tr>\n",
              "    <tr>\n",
              "      <th>1</th>\n",
              "      <td>285</td>\n",
              "      <td>Pirates of the Caribbean: At World's End</td>\n",
              "      <td>[Captain, Barbossa,, long, believed, to, be, d...</td>\n",
              "      <td>[Adventure, Fantasy, Action]</td>\n",
              "      <td>[ocean, drug abuse, exotic island, east india ...</td>\n",
              "      <td>[Johnny Depp, Orlando Bloom, Keira Knightley]</td>\n",
              "      <td>[Gore Verbinski]</td>\n",
              "    </tr>\n",
              "    <tr>\n",
              "      <th>2</th>\n",
              "      <td>206647</td>\n",
              "      <td>Spectre</td>\n",
              "      <td>[A, cryptic, message, from, Bond’s, past, send...</td>\n",
              "      <td>[Action, Adventure, Crime]</td>\n",
              "      <td>[spy, based on novel, secret agent, sequel, mi...</td>\n",
              "      <td>[Daniel Craig, Christoph Waltz, Léa Seydoux]</td>\n",
              "      <td>[Sam Mendes]</td>\n",
              "    </tr>\n",
              "    <tr>\n",
              "      <th>3</th>\n",
              "      <td>49026</td>\n",
              "      <td>The Dark Knight Rises</td>\n",
              "      <td>[Following, the, death, of, District, Attorney...</td>\n",
              "      <td>[Action, Crime, Drama, Thriller]</td>\n",
              "      <td>[dc comics, crime fighter, terrorist, secret i...</td>\n",
              "      <td>[Christian Bale, Michael Caine, Gary Oldman]</td>\n",
              "      <td>[Christopher Nolan]</td>\n",
              "    </tr>\n",
              "    <tr>\n",
              "      <th>4</th>\n",
              "      <td>49529</td>\n",
              "      <td>John Carter</td>\n",
              "      <td>[John, Carter, is, a, war-weary,, former, mili...</td>\n",
              "      <td>[Action, Adventure, Science Fiction]</td>\n",
              "      <td>[based on novel, mars, medallion, space travel...</td>\n",
              "      <td>[Taylor Kitsch, Lynn Collins, Samantha Morton]</td>\n",
              "      <td>[Andrew Stanton]</td>\n",
              "    </tr>\n",
              "  </tbody>\n",
              "</table>\n",
              "</div>"
            ],
            "text/plain": [
              "   movie_id  ...                 crew\n",
              "0     19995  ...      [James Cameron]\n",
              "1       285  ...     [Gore Verbinski]\n",
              "2    206647  ...         [Sam Mendes]\n",
              "3     49026  ...  [Christopher Nolan]\n",
              "4     49529  ...     [Andrew Stanton]\n",
              "\n",
              "[5 rows x 7 columns]"
            ]
          },
          "metadata": {},
          "execution_count": 22
        }
      ]
    },
    {
      "cell_type": "code",
      "metadata": {
        "id": "oIpdtdcsSCwA"
      },
      "source": [
        "movies['cast']=movies['cast'].apply(lambda x: [i.replace(\" \",\"\") for i in x])\n",
        "movies['genres']=movies['genres'].apply(lambda x: [i.replace(\" \",\"\") for i in x])\n",
        "movies['crew']=movies['crew'].apply(lambda x: [i.replace(\" \",\"\") for i in x])\n",
        "movies['keywords']=movies['keywords'].apply(lambda x: [i.replace(\" \",\"\") for i in x])"
      ],
      "execution_count": 23,
      "outputs": []
    },
    {
      "cell_type": "code",
      "metadata": {
        "colab": {
          "base_uri": "https://localhost:8080/",
          "height": 354
        },
        "id": "zEmR4iZLTVfI",
        "outputId": "4b4585eb-f430-4682-f49c-ba80e023c4d3"
      },
      "source": [
        "movies.head()"
      ],
      "execution_count": 24,
      "outputs": [
        {
          "output_type": "execute_result",
          "data": {
            "text/html": [
              "<div>\n",
              "<style scoped>\n",
              "    .dataframe tbody tr th:only-of-type {\n",
              "        vertical-align: middle;\n",
              "    }\n",
              "\n",
              "    .dataframe tbody tr th {\n",
              "        vertical-align: top;\n",
              "    }\n",
              "\n",
              "    .dataframe thead th {\n",
              "        text-align: right;\n",
              "    }\n",
              "</style>\n",
              "<table border=\"1\" class=\"dataframe\">\n",
              "  <thead>\n",
              "    <tr style=\"text-align: right;\">\n",
              "      <th></th>\n",
              "      <th>movie_id</th>\n",
              "      <th>title</th>\n",
              "      <th>overview</th>\n",
              "      <th>genres</th>\n",
              "      <th>keywords</th>\n",
              "      <th>cast</th>\n",
              "      <th>crew</th>\n",
              "    </tr>\n",
              "  </thead>\n",
              "  <tbody>\n",
              "    <tr>\n",
              "      <th>0</th>\n",
              "      <td>19995</td>\n",
              "      <td>Avatar</td>\n",
              "      <td>[In, the, 22nd, century,, a, paraplegic, Marin...</td>\n",
              "      <td>[Action, Adventure, Fantasy, ScienceFiction]</td>\n",
              "      <td>[cultureclash, future, spacewar, spacecolony, ...</td>\n",
              "      <td>[SamWorthington, ZoeSaldana, SigourneyWeaver]</td>\n",
              "      <td>[JamesCameron]</td>\n",
              "    </tr>\n",
              "    <tr>\n",
              "      <th>1</th>\n",
              "      <td>285</td>\n",
              "      <td>Pirates of the Caribbean: At World's End</td>\n",
              "      <td>[Captain, Barbossa,, long, believed, to, be, d...</td>\n",
              "      <td>[Adventure, Fantasy, Action]</td>\n",
              "      <td>[ocean, drugabuse, exoticisland, eastindiatrad...</td>\n",
              "      <td>[JohnnyDepp, OrlandoBloom, KeiraKnightley]</td>\n",
              "      <td>[GoreVerbinski]</td>\n",
              "    </tr>\n",
              "    <tr>\n",
              "      <th>2</th>\n",
              "      <td>206647</td>\n",
              "      <td>Spectre</td>\n",
              "      <td>[A, cryptic, message, from, Bond’s, past, send...</td>\n",
              "      <td>[Action, Adventure, Crime]</td>\n",
              "      <td>[spy, basedonnovel, secretagent, sequel, mi6, ...</td>\n",
              "      <td>[DanielCraig, ChristophWaltz, LéaSeydoux]</td>\n",
              "      <td>[SamMendes]</td>\n",
              "    </tr>\n",
              "    <tr>\n",
              "      <th>3</th>\n",
              "      <td>49026</td>\n",
              "      <td>The Dark Knight Rises</td>\n",
              "      <td>[Following, the, death, of, District, Attorney...</td>\n",
              "      <td>[Action, Crime, Drama, Thriller]</td>\n",
              "      <td>[dccomics, crimefighter, terrorist, secretiden...</td>\n",
              "      <td>[ChristianBale, MichaelCaine, GaryOldman]</td>\n",
              "      <td>[ChristopherNolan]</td>\n",
              "    </tr>\n",
              "    <tr>\n",
              "      <th>4</th>\n",
              "      <td>49529</td>\n",
              "      <td>John Carter</td>\n",
              "      <td>[John, Carter, is, a, war-weary,, former, mili...</td>\n",
              "      <td>[Action, Adventure, ScienceFiction]</td>\n",
              "      <td>[basedonnovel, mars, medallion, spacetravel, p...</td>\n",
              "      <td>[TaylorKitsch, LynnCollins, SamanthaMorton]</td>\n",
              "      <td>[AndrewStanton]</td>\n",
              "    </tr>\n",
              "  </tbody>\n",
              "</table>\n",
              "</div>"
            ],
            "text/plain": [
              "   movie_id  ...                crew\n",
              "0     19995  ...      [JamesCameron]\n",
              "1       285  ...     [GoreVerbinski]\n",
              "2    206647  ...         [SamMendes]\n",
              "3     49026  ...  [ChristopherNolan]\n",
              "4     49529  ...     [AndrewStanton]\n",
              "\n",
              "[5 rows x 7 columns]"
            ]
          },
          "metadata": {},
          "execution_count": 24
        }
      ]
    },
    {
      "cell_type": "code",
      "metadata": {
        "id": "rEt6d75ATXjv"
      },
      "source": [
        "movies['tags'] = movies['overview'] + movies['genres'] + movies['keywords'] + movies['cast'] + movies['crew']"
      ],
      "execution_count": 25,
      "outputs": []
    },
    {
      "cell_type": "code",
      "metadata": {
        "id": "dCQJYeiLUled"
      },
      "source": [
        "movie = movies.drop(columns=['overview','genres','keywords','cast','crew'])"
      ],
      "execution_count": 26,
      "outputs": []
    },
    {
      "cell_type": "code",
      "metadata": {
        "colab": {
          "base_uri": "https://localhost:8080/",
          "height": 203
        },
        "id": "dt54DI6RU0XN",
        "outputId": "201aaa4b-cb26-418c-b5f4-9f322fbfa989"
      },
      "source": [
        "movie['tags'] = movie['tags'].apply(lambda x: \" \".join(x))\n",
        "movie.head()"
      ],
      "execution_count": 27,
      "outputs": [
        {
          "output_type": "execute_result",
          "data": {
            "text/html": [
              "<div>\n",
              "<style scoped>\n",
              "    .dataframe tbody tr th:only-of-type {\n",
              "        vertical-align: middle;\n",
              "    }\n",
              "\n",
              "    .dataframe tbody tr th {\n",
              "        vertical-align: top;\n",
              "    }\n",
              "\n",
              "    .dataframe thead th {\n",
              "        text-align: right;\n",
              "    }\n",
              "</style>\n",
              "<table border=\"1\" class=\"dataframe\">\n",
              "  <thead>\n",
              "    <tr style=\"text-align: right;\">\n",
              "      <th></th>\n",
              "      <th>movie_id</th>\n",
              "      <th>title</th>\n",
              "      <th>tags</th>\n",
              "    </tr>\n",
              "  </thead>\n",
              "  <tbody>\n",
              "    <tr>\n",
              "      <th>0</th>\n",
              "      <td>19995</td>\n",
              "      <td>Avatar</td>\n",
              "      <td>In the 22nd century, a paraplegic Marine is di...</td>\n",
              "    </tr>\n",
              "    <tr>\n",
              "      <th>1</th>\n",
              "      <td>285</td>\n",
              "      <td>Pirates of the Caribbean: At World's End</td>\n",
              "      <td>Captain Barbossa, long believed to be dead, ha...</td>\n",
              "    </tr>\n",
              "    <tr>\n",
              "      <th>2</th>\n",
              "      <td>206647</td>\n",
              "      <td>Spectre</td>\n",
              "      <td>A cryptic message from Bond’s past sends him o...</td>\n",
              "    </tr>\n",
              "    <tr>\n",
              "      <th>3</th>\n",
              "      <td>49026</td>\n",
              "      <td>The Dark Knight Rises</td>\n",
              "      <td>Following the death of District Attorney Harve...</td>\n",
              "    </tr>\n",
              "    <tr>\n",
              "      <th>4</th>\n",
              "      <td>49529</td>\n",
              "      <td>John Carter</td>\n",
              "      <td>John Carter is a war-weary, former military ca...</td>\n",
              "    </tr>\n",
              "  </tbody>\n",
              "</table>\n",
              "</div>"
            ],
            "text/plain": [
              "   movie_id  ...                                               tags\n",
              "0     19995  ...  In the 22nd century, a paraplegic Marine is di...\n",
              "1       285  ...  Captain Barbossa, long believed to be dead, ha...\n",
              "2    206647  ...  A cryptic message from Bond’s past sends him o...\n",
              "3     49026  ...  Following the death of District Attorney Harve...\n",
              "4     49529  ...  John Carter is a war-weary, former military ca...\n",
              "\n",
              "[5 rows x 3 columns]"
            ]
          },
          "metadata": {},
          "execution_count": 27
        }
      ]
    },
    {
      "cell_type": "code",
      "metadata": {
        "colab": {
          "base_uri": "https://localhost:8080/",
          "height": 88
        },
        "id": "la4I-r3FVAgN",
        "outputId": "cc2e3581-e67a-4e5b-e2ed-92bd2e7670e4"
      },
      "source": [
        "movie['tags'][0]"
      ],
      "execution_count": 28,
      "outputs": [
        {
          "output_type": "execute_result",
          "data": {
            "application/vnd.google.colaboratory.intrinsic+json": {
              "type": "string"
            },
            "text/plain": [
              "'In the 22nd century, a paraplegic Marine is dispatched to the moon Pandora on a unique mission, but becomes torn between following orders and protecting an alien civilization. Action Adventure Fantasy ScienceFiction cultureclash future spacewar spacecolony society spacetravel futuristic romance space alien tribe alienplanet cgi marine soldier battle loveaffair antiwar powerrelations mindandsoul 3d SamWorthington ZoeSaldana SigourneyWeaver JamesCameron'"
            ]
          },
          "metadata": {},
          "execution_count": 28
        }
      ]
    },
    {
      "cell_type": "code",
      "metadata": {
        "id": "yRKyt0E7WQdT"
      },
      "source": [
        "movie['tags']=movie['tags'].apply(lambda x:x.lower())"
      ],
      "execution_count": 29,
      "outputs": []
    },
    {
      "cell_type": "code",
      "metadata": {
        "colab": {
          "base_uri": "https://localhost:8080/",
          "height": 203
        },
        "id": "HVsvJZfvWr01",
        "outputId": "355fce76-da5f-4f9e-968e-c65f45d88aac"
      },
      "source": [
        "movie.head()"
      ],
      "execution_count": 30,
      "outputs": [
        {
          "output_type": "execute_result",
          "data": {
            "text/html": [
              "<div>\n",
              "<style scoped>\n",
              "    .dataframe tbody tr th:only-of-type {\n",
              "        vertical-align: middle;\n",
              "    }\n",
              "\n",
              "    .dataframe tbody tr th {\n",
              "        vertical-align: top;\n",
              "    }\n",
              "\n",
              "    .dataframe thead th {\n",
              "        text-align: right;\n",
              "    }\n",
              "</style>\n",
              "<table border=\"1\" class=\"dataframe\">\n",
              "  <thead>\n",
              "    <tr style=\"text-align: right;\">\n",
              "      <th></th>\n",
              "      <th>movie_id</th>\n",
              "      <th>title</th>\n",
              "      <th>tags</th>\n",
              "    </tr>\n",
              "  </thead>\n",
              "  <tbody>\n",
              "    <tr>\n",
              "      <th>0</th>\n",
              "      <td>19995</td>\n",
              "      <td>Avatar</td>\n",
              "      <td>in the 22nd century, a paraplegic marine is di...</td>\n",
              "    </tr>\n",
              "    <tr>\n",
              "      <th>1</th>\n",
              "      <td>285</td>\n",
              "      <td>Pirates of the Caribbean: At World's End</td>\n",
              "      <td>captain barbossa, long believed to be dead, ha...</td>\n",
              "    </tr>\n",
              "    <tr>\n",
              "      <th>2</th>\n",
              "      <td>206647</td>\n",
              "      <td>Spectre</td>\n",
              "      <td>a cryptic message from bond’s past sends him o...</td>\n",
              "    </tr>\n",
              "    <tr>\n",
              "      <th>3</th>\n",
              "      <td>49026</td>\n",
              "      <td>The Dark Knight Rises</td>\n",
              "      <td>following the death of district attorney harve...</td>\n",
              "    </tr>\n",
              "    <tr>\n",
              "      <th>4</th>\n",
              "      <td>49529</td>\n",
              "      <td>John Carter</td>\n",
              "      <td>john carter is a war-weary, former military ca...</td>\n",
              "    </tr>\n",
              "  </tbody>\n",
              "</table>\n",
              "</div>"
            ],
            "text/plain": [
              "   movie_id  ...                                               tags\n",
              "0     19995  ...  in the 22nd century, a paraplegic marine is di...\n",
              "1       285  ...  captain barbossa, long believed to be dead, ha...\n",
              "2    206647  ...  a cryptic message from bond’s past sends him o...\n",
              "3     49026  ...  following the death of district attorney harve...\n",
              "4     49529  ...  john carter is a war-weary, former military ca...\n",
              "\n",
              "[5 rows x 3 columns]"
            ]
          },
          "metadata": {},
          "execution_count": 30
        }
      ]
    },
    {
      "cell_type": "code",
      "metadata": {
        "id": "3rIPc6r6WvZx"
      },
      "source": [
        "from sklearn.feature_extraction.text import CountVectorizer\n",
        "cv = CountVectorizer(max_features=5000,stop_words='english')"
      ],
      "execution_count": 33,
      "outputs": []
    },
    {
      "cell_type": "code",
      "metadata": {
        "id": "W6KjPMiya4ft"
      },
      "source": [
        "vectors = cv.fit_transform(movie['tags']).toarray()"
      ],
      "execution_count": 34,
      "outputs": []
    },
    {
      "cell_type": "code",
      "metadata": {
        "colab": {
          "base_uri": "https://localhost:8080/"
        },
        "id": "tkPhoupHbJ92",
        "outputId": "dc4f1ac9-f41c-4f80-ee64-d15205e58c0a"
      },
      "source": [
        "vectors"
      ],
      "execution_count": 235,
      "outputs": [
        {
          "output_type": "execute_result",
          "data": {
            "text/plain": [
              "array([[0, 0, 0, ..., 0, 0, 0],\n",
              "       [0, 0, 0, ..., 0, 0, 0],\n",
              "       [0, 0, 0, ..., 0, 0, 0],\n",
              "       ...,\n",
              "       [0, 0, 0, ..., 0, 0, 0],\n",
              "       [0, 0, 0, ..., 0, 0, 0],\n",
              "       [0, 0, 0, ..., 0, 0, 0]])"
            ]
          },
          "metadata": {},
          "execution_count": 235
        }
      ]
    },
    {
      "cell_type": "code",
      "metadata": {
        "id": "jrXI2hBfbN4w"
      },
      "source": [
        "import nltk\n",
        "from nltk.stem.porter import PorterStemmer\n",
        "ps=PorterStemmer()"
      ],
      "execution_count": 135,
      "outputs": []
    },
    {
      "cell_type": "code",
      "metadata": {
        "id": "wx0S5-Mzq-7p"
      },
      "source": [
        "def stem(obj):\n",
        "  l=[]\n",
        "  for i in obj.split():\n",
        "    l.append(ps.stem(i))\n",
        "  return \" \".join(l)"
      ],
      "execution_count": 136,
      "outputs": []
    },
    {
      "cell_type": "code",
      "metadata": {
        "id": "Ncb8DIuzrqta"
      },
      "source": [
        ""
      ],
      "execution_count": 136,
      "outputs": []
    },
    {
      "cell_type": "code",
      "metadata": {
        "colab": {
          "base_uri": "https://localhost:8080/",
          "height": 185
        },
        "id": "xt5xN7Vurvxa",
        "outputId": "55adf1e1-090f-4805-a648-b871656ceb1b"
      },
      "source": [
        "movie['tags']=movie['tags'].apply(stem)\n",
        "movie.head()"
      ],
      "execution_count": 35,
      "outputs": [
        {
          "output_type": "error",
          "ename": "NameError",
          "evalue": "ignored",
          "traceback": [
            "\u001b[0;31m---------------------------------------------------------------------------\u001b[0m",
            "\u001b[0;31mNameError\u001b[0m                                 Traceback (most recent call last)",
            "\u001b[0;32m<ipython-input-35-7021c7cabfdd>\u001b[0m in \u001b[0;36m<module>\u001b[0;34m()\u001b[0m\n\u001b[0;32m----> 1\u001b[0;31m \u001b[0mmovie\u001b[0m\u001b[0;34m[\u001b[0m\u001b[0;34m'tags'\u001b[0m\u001b[0;34m]\u001b[0m\u001b[0;34m=\u001b[0m\u001b[0mmovie\u001b[0m\u001b[0;34m[\u001b[0m\u001b[0;34m'tags'\u001b[0m\u001b[0;34m]\u001b[0m\u001b[0;34m.\u001b[0m\u001b[0mapply\u001b[0m\u001b[0;34m(\u001b[0m\u001b[0mstem\u001b[0m\u001b[0;34m)\u001b[0m\u001b[0;34m\u001b[0m\u001b[0;34m\u001b[0m\u001b[0m\n\u001b[0m\u001b[1;32m      2\u001b[0m \u001b[0mmovie\u001b[0m\u001b[0;34m.\u001b[0m\u001b[0mhead\u001b[0m\u001b[0;34m(\u001b[0m\u001b[0;34m)\u001b[0m\u001b[0;34m\u001b[0m\u001b[0;34m\u001b[0m\u001b[0m\n",
            "\u001b[0;31mNameError\u001b[0m: name 'stem' is not defined"
          ]
        }
      ]
    },
    {
      "cell_type": "code",
      "metadata": {
        "id": "sTpXbusas11d"
      },
      "source": [
        "from sklearn.metrics.pairwise import cosine_similarity"
      ],
      "execution_count": 37,
      "outputs": []
    },
    {
      "cell_type": "code",
      "metadata": {
        "colab": {
          "base_uri": "https://localhost:8080/"
        },
        "id": "31T8IL5pvnTZ",
        "outputId": "c4e9a422-5c1e-4dc9-84aa-ccf639d2fa50"
      },
      "source": [
        "similarity = cosine_similarity(vectors)\n",
        "similarity"
      ],
      "execution_count": 38,
      "outputs": [
        {
          "output_type": "execute_result",
          "data": {
            "text/plain": [
              "array([[1.        , 0.0805823 , 0.05216405, ..., 0.02353104, 0.02227177,\n",
              "        0.        ],\n",
              "       [0.0805823 , 1.        , 0.05884899, ..., 0.        , 0.        ,\n",
              "        0.02037425],\n",
              "       [0.05216405, 0.05884899, 1.        , ..., 0.        , 0.        ,\n",
              "        0.01978356],\n",
              "       ...,\n",
              "       [0.02353104, 0.        , 0.        , ..., 1.        , 0.04402255,\n",
              "        0.        ],\n",
              "       [0.02227177, 0.        , 0.        , ..., 0.04402255, 1.        ,\n",
              "        0.01689343],\n",
              "       [0.        , 0.02037425, 0.01978356, ..., 0.        , 0.01689343,\n",
              "        1.        ]])"
            ]
          },
          "metadata": {},
          "execution_count": 38
        }
      ]
    },
    {
      "cell_type": "code",
      "metadata": {
        "id": "3c-_polXvy4U"
      },
      "source": [
        "def recommend(obj):\n",
        "    index = movie[movie['title'] == obj].index[0]\n",
        "    distances = sorted(list(enumerate(similarity[index])),reverse=True,key = lambda x: x[1])\n",
        "    for i in distances[1:7]:\n",
        "        print(movie.iloc[i[0]].title)"
      ],
      "execution_count": 39,
      "outputs": []
    },
    {
      "cell_type": "code",
      "metadata": {
        "colab": {
          "base_uri": "https://localhost:8080/"
        },
        "id": "r6N6emba274h",
        "outputId": "914fc06d-a93c-46af-ed82-abcd5240b1ad"
      },
      "source": [
        "recommend('Avatar')"
      ],
      "execution_count": 40,
      "outputs": [
        {
          "output_type": "stream",
          "name": "stdout",
          "text": [
            "Ender's Game\n",
            "Independence Day\n",
            "Edge of Tomorrow\n",
            "Journey 2: The Mysterious Island\n",
            "The Lovers\n",
            "Jupiter Ascending\n"
          ]
        }
      ]
    },
    {
      "cell_type": "code",
      "metadata": {
        "colab": {
          "base_uri": "https://localhost:8080/"
        },
        "id": "Q_ZQXmbX3AlX",
        "outputId": "c313bb7d-42c1-44c3-8119-9d7e03cc3588"
      },
      "source": [
        "ind=movie[movie['title']=='Spectre'].index[0]\n",
        "sorted(list(enumerate(similarity[ind])),reverse=True)"
      ],
      "execution_count": 53,
      "outputs": [
        {
          "output_type": "execute_result",
          "data": {
            "text/plain": [
              "[(517, 0.019783564706223267),\n",
              " (516, 0.0),\n",
              " (515, 0.0),\n",
              " (514, 0.07171371656006362),\n",
              " (513, 0.05345224838248488),\n",
              " (512, 0.08827348295047496),\n",
              " (511, 0.09416472308615166),\n",
              " (510, 0.026398183867422733),\n",
              " (509, 0.022792115291927588),\n",
              " (508, 0.09968895725584535),\n",
              " (507, 0.04259177099999598),\n",
              " (506, 0.036037498507822355),\n",
              " (505, 0.03450327796711771),\n",
              " (504, 0.0),\n",
              " (503, 0.07644707871564382),\n",
              " (502, 0.023904572186687872),\n",
              " (501, 0.04193139346887673),\n",
              " (500, 0.0515539262226467),\n",
              " (499, 0.0),\n",
              " (498, 0.09759000729485331),\n",
              " (497, 0.030860669992418377),\n",
              " (496, 0.0),\n",
              " (495, 0.07207499701564471),\n",
              " (494, 0.0),\n",
              " (493, 0.0),\n",
              " (492, 0.030860669992418377),\n",
              " (491, 0.03803491305644819),\n",
              " (490, 0.07207499701564471),\n",
              " (489, 0.0),\n",
              " (488, 0.018442777839082936),\n",
              " (487, 0.03450327796711771),\n",
              " (486, 0.036454130828824455),\n",
              " (485, 0.024397501823713332),\n",
              " (484, 0.030860669992418377),\n",
              " (483, 0.09258200997725513),\n",
              " (482, 0.0),\n",
              " (481, 0.02258769757263128),\n",
              " (480, 0.04931136727215379),\n",
              " (479, 0.018333969940564222),\n",
              " (478, 0.03929887459459296),\n",
              " (477, 0.0),\n",
              " (476, 0.033806170189140665),\n",
              " (475, 0.04517539514526256),\n",
              " (474, 0.0),\n",
              " (473, 0.0),\n",
              " (472, 0.057142857142857134),\n",
              " (471, 0.02672612419124244),\n",
              " (470, 0.0),\n",
              " (469, 0.06492654830247076),\n",
              " (468, 0.08696565534786725),\n",
              " (467, 0.0432843655349805),\n",
              " (466, 0.0994490316197694),\n",
              " (465, 0.036037498507822355),\n",
              " (464, 0.0),\n",
              " (463, 0.0),\n",
              " (462, 0.018442777839082936),\n",
              " (461, 0.029424494316824985),\n",
              " (460, 0.0),\n",
              " (459, 0.033149677206589796),\n",
              " (458, 0.0375624113212674),\n",
              " (457, 0.055577001437672836),\n",
              " (456, 0.02146693953705459),\n",
              " (455, 0.04733810683311508),\n",
              " (454, 0.0),\n",
              " (453, 0.04931136727215379),\n",
              " (452, 0.0),\n",
              " (451, 0.05039526306789696),\n",
              " (450, 0.0),\n",
              " (449, 0.029424494316824985),\n",
              " (448, 0.0),\n",
              " (447, 0.023904572186687872),\n",
              " (446, 0.05096471914376255),\n",
              " (445, 0.0),\n",
              " (444, 0.06965451903188581),\n",
              " (443, 0.0),\n",
              " (442, 0.04829452884162951),\n",
              " (441, 0.0),\n",
              " (440, 0.0),\n",
              " (439, 0.029880715233359837),\n",
              " (438, 0.0),\n",
              " (437, 0.10826639239215334),\n",
              " (436, 0.0),\n",
              " (435, 0.03450327796711771),\n",
              " (434, 0.0),\n",
              " (433, 0.09258200997725513),\n",
              " (432, 0.047809144373375745),\n",
              " (431, 0.0),\n",
              " (430, 0.0),\n",
              " (429, 0.0),\n",
              " (428, 0.018666334823663932),\n",
              " (427, 0.02817180849095055),\n",
              " (426, 0.03688555567816587),\n",
              " (425, 0.09116846116771035),\n",
              " (424, 0.039567129412446535),\n",
              " (423, 0.0),\n",
              " (422, 0.035245368842512066),\n",
              " (421, 0.04829452884162951),\n",
              " (420, 0.04688072309384954),\n",
              " (419, 0.07319250547113999),\n",
              " (418, 0.10811249552346706),\n",
              " (417, 0.0),\n",
              " (416, 0.0),\n",
              " (415, 0.017251638983558856),\n",
              " (414, 0.03194382824999699),\n",
              " (413, 0.02519763153394848),\n",
              " (412, 0.048795003647426664),\n",
              " (411, 0.052164053095730106),\n",
              " (410, 0.02219483808092376),\n",
              " (409, 0.0),\n",
              " (408, 0.036037498507822355),\n",
              " (407, 0.0),\n",
              " (406, 0.0),\n",
              " (405, 0.060717674071891624),\n",
              " (404, 0.0),\n",
              " (403, 0.08518354199999197),\n",
              " (402, 0.07396705090823068),\n",
              " (401, 0.0),\n",
              " (400, 0.081199794294115),\n",
              " (399, 0.024147264420814756),\n",
              " (398, 0.023904572186687872),\n",
              " (397, 0.0),\n",
              " (396, 0.045584230583855176),\n",
              " (395, 0.0),\n",
              " (394, 0.07644707871564382),\n",
              " (393, 0.0),\n",
              " (392, 0.09107651110783743),\n",
              " (391, 0.0),\n",
              " (390, 0.0),\n",
              " (389, 0.06388765649999398),\n",
              " (388, 0.02672612419124244),\n",
              " (387, 0.02519763153394848),\n",
              " (386, 0.06658451424277127),\n",
              " (385, 0.0),\n",
              " (384, 0.06277648205743444),\n",
              " (383, 0.04600437062282361),\n",
              " (382, 0.0),\n",
              " (381, 0.04364357804719847),\n",
              " (380, 0.0),\n",
              " (379, 0.033149677206589796),\n",
              " (378, 0.0),\n",
              " (377, 0.04517539514526256),\n",
              " (376, 0.04600437062282361),\n",
              " (375, 0.0),\n",
              " (374, 0.037332669647327864),\n",
              " (373, 0.0),\n",
              " (372, 0.12598815766974242),\n",
              " (371, 0.09035079029052512),\n",
              " (370, 0.10826639239215334),\n",
              " (369, 0.07171371656006362),\n",
              " (368, 0.028988551782622416),\n",
              " (367, 0.09416472308615166),\n",
              " (366, 0.02742042485535409),\n",
              " (365, 0.05096471914376255),\n",
              " (364, 0.0),\n",
              " (363, 0.022005942406783077),\n",
              " (362, 0.03138824102871722),\n",
              " (361, 0.027788500718836418),\n",
              " (360, 0.0),\n",
              " (359, 0.030860669992418377),\n",
              " (358, 0.029880715233359837),\n",
              " (357, 0.0),\n",
              " (356, 0.0857142857142857),\n",
              " (355, 0.05855400437691198),\n",
              " (354, 0.08322503785764788),\n",
              " (353, 0.020965696734438367),\n",
              " (352, 0.02742042485535409),\n",
              " (351, 0.02344036154692477),\n",
              " (350, 0.10826639239215334),\n",
              " (349, 0.0563436169819011),\n",
              " (348, 0.029424494316824985),\n",
              " (347, 0.0),\n",
              " (346, 0.02817180849095055),\n",
              " (345, 0.0447773662839645),\n",
              " (344, 0.029880715233359837),\n",
              " (343, 0.0),\n",
              " (342, 0.07466533929465573),\n",
              " (341, 0.02672612419124244),\n",
              " (340, 0.0515539262226467),\n",
              " (339, 0.08827348295047496),\n",
              " (338, 0.029424494316824985),\n",
              " (337, 0.02344036154692477),\n",
              " (336, 0.033149677206589796),\n",
              " (335, 0.026082026547865053),\n",
              " (334, 0.04931136727215379),\n",
              " (333, 0.027788500718836418),\n",
              " (332, 0.07733088933397005),\n",
              " (331, 0.02219483808092376),\n",
              " (330, 0.07559289460184544),\n",
              " (329, 0.10079052613579392),\n",
              " (328, 0.0),\n",
              " (327, 0.0),\n",
              " (326, 0.0),\n",
              " (325, 0.061721339984836754),\n",
              " (324, 0.023218173010628604),\n",
              " (323, 0.0),\n",
              " (322, 0.052164053095730106),\n",
              " (321, 0.0),\n",
              " (320, 0.030860669992418377),\n",
              " (319, 0.035245368842512066),\n",
              " (318, 0.0),\n",
              " (317, 0.0),\n",
              " (316, 0.021128856368212913),\n",
              " (315, 0.04829452884162951),\n",
              " (314, 0.09759000729485333),\n",
              " (313, 0.0),\n",
              " (312, 0.04931136727215379),\n",
              " (311, 0.025482359571881275),\n",
              " (310, 0.05148744788909767),\n",
              " (309, 0.03194382824999699),\n",
              " (308, 0.06761234037828133),\n",
              " (307, 0.04499718776364441),\n",
              " (306, 0.02817180849095055),\n",
              " (305, 0.040996003084539386),\n",
              " (304, 0.06761234037828133),\n",
              " (303, 0.0515539262226467),\n",
              " (302, 0.025482359571881275),\n",
              " (301, 0.03929887459459296),\n",
              " (300, 0.047809144373375745),\n",
              " (299, 0.03803491305644819),\n",
              " (298, 0.02577696311132335),\n",
              " (297, 0.04438967616184752),\n",
              " (296, 0.020348923188911988),\n",
              " (295, 0.028571428571428567),\n",
              " (294, 0.08964214570007951),\n",
              " (293, 0.029424494316824985),\n",
              " (292, 0.09258200997725513),\n",
              " (291, 0.07396705090823068),\n",
              " (290, 0.060717674071891624),\n",
              " (289, 0.018122009407318743),\n",
              " (288, 0.02577696311132335),\n",
              " (287, 0.027788500718836418),\n",
              " (286, 0.021128856368212913),\n",
              " (285, 0.05894831189188944),\n",
              " (284, 0.0),\n",
              " (283, 0.0563436169819011),\n",
              " (282, 0.14712247158412492),\n",
              " (281, 0.04931136727215379),\n",
              " (280, 0.048795003647426664),\n",
              " (279, 0.02344036154692477),\n",
              " (278, 0.047809144373375745),\n",
              " (277, 0.17684493567566834),\n",
              " (276, 0.03194382824999699),\n",
              " (275, 0.02817180849095055),\n",
              " (274, 0.02760262237369417),\n",
              " (273, 0.06388765649999398),\n",
              " (272, 0.0),\n",
              " (271, 0.052796367734845466),\n",
              " (270, 0.0703210846407743),\n",
              " (269, 0.03253000243161777),\n",
              " (268, 0.026082026547865053),\n",
              " (267, 0.1057361065275362),\n",
              " (266, 0.05413319619607667),\n",
              " (265, 0.0),\n",
              " (264, 0.0),\n",
              " (263, 0.1057361065275362),\n",
              " (262, 0.06776309271789384),\n",
              " (261, 0.05039526306789696),\n",
              " (260, 0.08827348295047496),\n",
              " (259, 0.059761430466719674),\n",
              " (258, 0.016190219204909314),\n",
              " (257, 0.027788500718836418),\n",
              " (256, 0.0994490316197694),\n",
              " (255, 0.026398183867422733),\n",
              " (254, 0.02366905341655754),\n",
              " (253, 0.060180814071377944),\n",
              " (252, 0.09824718648648241),\n",
              " (251, 0.0),\n",
              " (250, 0.0),\n",
              " (249, 0.09583148474999097),\n",
              " (248, 0.089554732567929),\n",
              " (247, 0.06761234037828133),\n",
              " (246, 0.02129588549999799),\n",
              " (245, 0.08696565534786725),\n",
              " (244, 0.029424494316824985),\n",
              " (243, 0.0447773662839645),\n",
              " (242, 0.055577001437672836),\n",
              " (241, 0.10826639239215334),\n",
              " (240, 0.04517539514526256),\n",
              " (239, 0.0),\n",
              " (238, 0.03852570642647097),\n",
              " (237, 0.0563436169819011),\n",
              " (236, 0.028988551782622416),\n",
              " (235, 0.02742042485535409),\n",
              " (234, 0.04259177099999598),\n",
              " (233, 0.06277648205743444),\n",
              " (232, 0.059761430466719674),\n",
              " (231, 0.02344036154692477),\n",
              " (230, 0.03505536546997459),\n",
              " (229, 0.05258304820496189),\n",
              " (228, 0.0703210846407743),\n",
              " (227, 0.14285714285714285),\n",
              " (226, 0.03138824102871722),\n",
              " (225, 0.026398183867422733),\n",
              " (224, 0.035634832254989916),\n",
              " (223, 0.0791945516022682),\n",
              " (222, 0.020498001542269693),\n",
              " (221, 0.02344036154692477),\n",
              " (220, 0.030358837035945812),\n",
              " (219, 0.09759000729485331),\n",
              " (218, 0.1267731382092775),\n",
              " (217, 0.020498001542269693),\n",
              " (216, 0.05484084971070818),\n",
              " (215, 0.06900655593423541),\n",
              " (214, 0.02742042485535409),\n",
              " (213, 0.06241877839323591),\n",
              " (212, 0.04259177099999598),\n",
              " (211, 0.0),\n",
              " (210, 0.10079052613579392),\n",
              " (209, 0.03450327796711771),\n",
              " (208, 0.07207499701564471),\n",
              " (207, 0.1031078524452934),\n",
              " (206, 0.03505536546997459),\n",
              " (205, 0.11952286093343936),\n",
              " (204, 0.04600437062282361),\n",
              " (203, 0.0515539262226467),\n",
              " (202, 0.05484084971070818),\n",
              " (201, 0.05484084971070818),\n",
              " (200, 0.06761234037828133),\n",
              " (199, 0.04364357804719847),\n",
              " (198, 0.057142857142857134),\n",
              " (197, 0.04688072309384954),\n",
              " (196, 0.02742042485535409),\n",
              " (195, 0.029424494316824985),\n",
              " (194, 0.0),\n",
              " (193, 0.037332669647327864),\n",
              " (192, 0.024147264420814756),\n",
              " (191, 0.02366905341655754),\n",
              " (190, 0.08717100546930082),\n",
              " (189, 0.03877833671647406),\n",
              " (188, 0.0982471864864824),\n",
              " (187, 0.1019294382875251),\n",
              " (186, 0.05855400437691198),\n",
              " (185, 0.028988551782622416),\n",
              " (184, 0.0),\n",
              " (183, 0.08717100546930082),\n",
              " (182, 0.07244179326244427),\n",
              " (181, 0.02129588549999799),\n",
              " (180, 0.11194341570991125),\n",
              " (179, 0.09583148474999097),\n",
              " (178, 0.02258769757263128),\n",
              " (177, 0.0),\n",
              " (176, 0.06277648205743444),\n",
              " (175, 0.04643634602125721),\n",
              " (174, 0.05039526306789696),\n",
              " (173, 0.023002185311411804),\n",
              " (172, 0.033806170189140665),\n",
              " (171, 0.026398183867422733),\n",
              " (170, 0.1595448070434931),\n",
              " (169, 0.06492654830247076),\n",
              " (168, 0.048795003647426664),\n",
              " (167, 0.061721339984836754),\n",
              " (166, 0.10968169942141635),\n",
              " (165, 0.04984447862792268),\n",
              " (164, 0.10559273546969093),\n",
              " (163, 0.0791945516022682),\n",
              " (162, 0.07377111135633174),\n",
              " (161, 0.0),\n",
              " (160, 0.07333587976225689),\n",
              " (159, 0.03138824102871722),\n",
              " (158, 0.06716604942594674),\n",
              " (157, 0.061721339984836754),\n",
              " (156, 0.020348923188911988),\n",
              " (155, 0.06388765649999398),\n",
              " (154, 0.030860669992418377),\n",
              " (153, 0.05976143046671968),\n",
              " (152, 0.08696565534786725),\n",
              " (151, 0.07207499701564471),\n",
              " (150, 0.0563436169819011),\n",
              " (149, 0.042257712736425826),\n",
              " (148, 0.033149677206589796),\n",
              " (147, 0.19999999999999998),\n",
              " (146, 0.0),\n",
              " (145, 0.019017456528224095),\n",
              " (144, 0.0515539262226467),\n",
              " (143, 0.04364357804719847),\n",
              " (142, 0.052796367734845466),\n",
              " (141, 0.035245368842512066),\n",
              " (140, 0.07100716024967263),\n",
              " (139, 0.10647942749998995),\n",
              " (138, 0.055577001437672836),\n",
              " (137, 0.0497245158098847),\n",
              " (136, 0.02366905341655754),\n",
              " (135, 0.0),\n",
              " (134, 0.15971914124998493),\n",
              " (133, 0.0),\n",
              " (132, 0.019262853213235485),\n",
              " (131, 0.0791945516022682),\n",
              " (130, 0.027788500718836418),\n",
              " (129, 0.08586775814821836),\n",
              " (128, 0.08017837257372731),\n",
              " (127, 0.07655590023509527),\n",
              " (126, 0.048795003647426664),\n",
              " (125, 0.04285714285714285),\n",
              " (124, 0.04161251892882394),\n",
              " (123, 0.06601782722034923),\n",
              " (122, 0.06277648205743444),\n",
              " (121, 0.081199794294115),\n",
              " (120, 0.024147264420814756),\n",
              " (119, 0.0703210846407743),\n",
              " (118, 0.0),\n",
              " (117, 0.0563436169819011),\n",
              " (116, 0.04931136727215379),\n",
              " (115, 0.025482359571881275),\n",
              " (114, 0.022792115291927588),\n",
              " (113, 0.024655683636076894),\n",
              " (112, 0.0563436169819011),\n",
              " (111, 0.052796367734845466),\n",
              " (110, 0.0),\n",
              " (109, 0.06761234037828133),\n",
              " (108, 0.1129384878631564),\n",
              " (107, 0.0432843655349805),\n",
              " (106, 0.022005942406783077),\n",
              " (105, 0.1301200097264711),\n",
              " (104, 0.05884898863364997),\n",
              " (103, 0.06149400462680908),\n",
              " (102, 0.042257712736425826),\n",
              " (101, 0.05345224838248488),\n",
              " (100, 0.0),\n",
              " (99, 0.04984447862792268),\n",
              " (98, 0.04931136727215379),\n",
              " (97, 0.0703210846407743),\n",
              " (96, 0.0563436169819011),\n",
              " (95, 0.022005942406783077),\n",
              " (94, 0.06277648205743444),\n",
              " (93, 0.02366905341655754),\n",
              " (92, 0.02129588549999799),\n",
              " (91, 0.05884898863364997),\n",
              " (90, 0.03138824102871722),\n",
              " (89, 0.014337009654653078),\n",
              " (88, 0.11595420713048966),\n",
              " (87, 0.02742042485535409),\n",
              " (86, 0.025482359571881275),\n",
              " (85, 0.050457594895144835),\n",
              " (84, 0.057416925176321444),\n",
              " (83, 0.07171371656006362),\n",
              " (82, 0.081199794294115),\n",
              " (81, 0.03283545516515592),\n",
              " (80, 0.03363839659676322),\n",
              " (79, 0.04733810683311508),\n",
              " (78, 0.07559289460184544),\n",
              " (77, 0.0),\n",
              " (76, 0.11952286093343936),\n",
              " (75, 0.05413319619607667),\n",
              " (74, 0.024397501823713332),\n",
              " (73, 0.0),\n",
              " (72, 0.08336550215650926),\n",
              " (71, 0.052796367734845466),\n",
              " (70, 0.05413319619607667),\n",
              " (69, 0.061721339984836754),\n",
              " (68, 0.060717674071891624),\n",
              " (67, 0.057142857142857134),\n",
              " (66, 0.024655683636076894),\n",
              " (65, 0.05976143046671968),\n",
              " (64, 0.0),\n",
              " (63, 0.040120542714251965),\n",
              " (62, 0.10141851056742199),\n",
              " (61, 0.07049073768502413),\n",
              " (60, 0.04931136727215379),\n",
              " (59, 0.03688555567816587),\n",
              " (58, 0.11501092655705902),\n",
              " (57, 0.0),\n",
              " (56, 0.0994490316197694),\n",
              " (55, 0.03450327796711771),\n",
              " (54, 0.033149677206589796),\n",
              " (53, 0.04364357804719847),\n",
              " (52, 0.0515539262226467),\n",
              " (51, 0.0751248226425348),\n",
              " (50, 0.11595420713048966),\n",
              " (49, 0.028571428571428567),\n",
              " (48, 0.022005942406783077),\n",
              " (47, 0.08322503785764788),\n",
              " (46, 0.11428571428571427),\n",
              " (45, 0.02219483808092376),\n",
              " (44, 0.03984095364447979),\n",
              " (43, 0.04733810683311508),\n",
              " (42, 0.0),\n",
              " (41, 0.04401188481356615),\n",
              " (40, 0.07824607964359516),\n",
              " (39, 0.052796367734845466),\n",
              " (38, 0.07859774918918593),\n",
              " (37, 0.027788500718836418),\n",
              " (36, 0.09862273454430757),\n",
              " (35, 0.08827348295047496),\n",
              " (34, 0.0),\n",
              " (33, 0.06629935441317959),\n",
              " (32, 0.04401188481356615),\n",
              " (31, 0.0563436169819011),\n",
              " (30, 0.07100716024967263),\n",
              " (29, 0.33008913610174606),\n",
              " (28, 0.0791945516022682),\n",
              " (27, 0.04259177099999598),\n",
              " (26, 0.0791945516022682),\n",
              " (25, 0.0),\n",
              " (24, 0.05797710356524483),\n",
              " (23, 0.12143534814378325),\n",
              " (22, 0.029424494316824985),\n",
              " (21, 0.060717674071891624),\n",
              " (20, 0.036037498507822355),\n",
              " (19, 0.039567129412446535),\n",
              " (18, 0.04293387907410918),\n",
              " (17, 0.11952286093343936),\n",
              " (16, 0.0515539262226467),\n",
              " (15, 0.040996003084539386),\n",
              " (14, 0.0563436169819011),\n",
              " (13, 0.04193139346887673),\n",
              " (12, 0.05884898863364997),\n",
              " (11, 0.3275692099413303),\n",
              " (10, 0.08336550215650926),\n",
              " (9, 0.04829452884162951),\n",
              " (8, 0.057142857142857134),\n",
              " (7, 0.13930903806377162),\n",
              " (6, 0.01889822365046136),\n",
              " (5, 0.06837634587578276),\n",
              " (4, 0.06900655593423541),\n",
              " (3, 0.03710709253896555),\n",
              " (2, 1.0),\n",
              " (1, 0.05884898863364997),\n",
              " (0, 0.052164053095730106)]"
            ]
          },
          "metadata": {},
          "execution_count": 53
        }
      ]
    },
    {
      "cell_type": "code",
      "metadata": {
        "colab": {
          "base_uri": "https://localhost:8080/",
          "height": 35
        },
        "id": "e--C11S0U_Cf",
        "outputId": "beadded4-2fe9-4d34-dabe-070d487e747a"
      },
      "source": [
        "movie.iloc[25].title"
      ],
      "execution_count": 58,
      "outputs": [
        {
          "output_type": "execute_result",
          "data": {
            "application/vnd.google.colaboratory.intrinsic+json": {
              "type": "string"
            },
            "text/plain": [
              "'Titanic'"
            ]
          },
          "metadata": {},
          "execution_count": 58
        }
      ]
    },
    {
      "cell_type": "code",
      "metadata": {
        "id": "tcXw49CGTOiW"
      },
      "source": [
        "import pickle"
      ],
      "execution_count": 47,
      "outputs": []
    },
    {
      "cell_type": "code",
      "metadata": {
        "id": "nN42cu8bT3-9"
      },
      "source": [
        "pickle.dump(movie,open('movies.pkl','wb'))\n",
        "pickle.dump(similarity,open('similarity.pkl','wb'))"
      ],
      "execution_count": 62,
      "outputs": []
    },
    {
      "cell_type": "code",
      "metadata": {
        "id": "NNGv2RLzWg6V"
      },
      "source": [
        ""
      ],
      "execution_count": null,
      "outputs": []
    }
  ]
}